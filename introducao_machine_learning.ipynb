{
  "nbformat": 4,
  "nbformat_minor": 0,
  "metadata": {
    "colab": {
      "name": "introducao_machine_learning.ipynb",
      "provenance": [],
      "collapsed_sections": []
    },
    "kernelspec": {
      "name": "python3",
      "display_name": "Python 3"
    },
    "language_info": {
      "name": "python"
    }
  },
  "cells": [
    {
      "cell_type": "markdown",
      "source": [
        "\n",
        "\n",
        "\n",
        "# 01. Classificando e-mails, animais e muito mais.\n",
        "\n",
        "\n",
        "\n"
      ],
      "metadata": {
        "id": "U2yJ7YDX6lmY"
      }
    },
    {
      "cell_type": "code",
      "execution_count": 1,
      "metadata": {
        "id": "cl647hK35P3z"
      },
      "outputs": [],
      "source": [
        "from sklearn.naive_bayes import MultinomialNB"
      ]
    },
    {
      "cell_type": "code",
      "source": [
        "porco1 = [1, 1, 0]\n",
        "porco2 = [1, 1, 0]\n",
        "porco3 = [1, 1, 0]\n",
        "cachorro1 = [1, 1, 1]\n",
        "cachorro2 = [0, 1, 1]\n",
        "cachorro3 = [0, 1, 1]\n",
        "\n",
        "dados = [porco1, porco2, porco3, cachorro1, cachorro2, cachorro3]\n",
        "\n",
        "marcacoes = [1, 1, 1, -1, -1, -1]"
      ],
      "metadata": {
        "id": "QoGZChWI5crI"
      },
      "execution_count": 2,
      "outputs": []
    },
    {
      "cell_type": "code",
      "source": [
        "modelo = MultinomialNB()\n",
        "modelo.fit(dados,marcacoes)"
      ],
      "metadata": {
        "colab": {
          "base_uri": "https://localhost:8080/"
        },
        "id": "Vk6CB8BL5yEr",
        "outputId": "956e9099-d873-4f5e-8728-9f2d4ac62f99"
      },
      "execution_count": 3,
      "outputs": [
        {
          "output_type": "execute_result",
          "data": {
            "text/plain": [
              "MultinomialNB()"
            ]
          },
          "metadata": {},
          "execution_count": 3
        }
      ]
    },
    {
      "cell_type": "code",
      "source": [
        "misterio1 = [1, 1, 1]\n",
        "misterio2 = [1, 0, 0]\n",
        "misterio3 = [0, 0, 1]\n",
        "testes = [misterio1, misterio2, misterio3]\n",
        "\n",
        "marcacoes_testes = [-1, 1, 1]\n",
        "\n",
        "resultado = modelo.predict(testes)\n",
        "\n",
        "diferencas = resultado - marcacoes_testes\n",
        "\n",
        "acertos = [d for d in diferencas if d ==0]\n",
        "\n",
        "total_de_acertos = len(acertos)\n",
        "total_de_elementos = len(testes)\n",
        "\n",
        "taxa_de_acertos = round( 100.0 * total_de_acertos / total_de_elementos, 1)\n",
        "\n",
        "print(f'O resultado foi: {resultado}.')\n",
        "print(f'As diferenças foram: {diferencas}.')\n",
        "print(f'A taxa de acerto foi de: {taxa_de_acertos} %.')"
      ],
      "metadata": {
        "colab": {
          "base_uri": "https://localhost:8080/"
        },
        "id": "ci8Rgt9Q57Zn",
        "outputId": "70e11e59-fd0c-4d51-c3fa-1def17684266"
      },
      "execution_count": 43,
      "outputs": [
        {
          "output_type": "stream",
          "name": "stdout",
          "text": [
            "O resultado foi: [-1  1 -1].\n",
            "As diferenças foram: [ 0  0 -2].\n",
            "A taxa de acerto foi de: 66.7 %.\n"
          ]
        }
      ]
    },
    {
      "cell_type": "code",
      "source": [
        ""
      ],
      "metadata": {
        "id": "WhgREWqi6gr5"
      },
      "execution_count": 4,
      "outputs": []
    }
  ]
}